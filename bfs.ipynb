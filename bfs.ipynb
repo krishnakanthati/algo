{
 "cells": [
  {
   "cell_type": "markdown",
   "metadata": {},
   "source": [
    "![alt text](Downloads/bfs.png)"
   ]
  },
  {
   "cell_type": "code",
   "execution_count": 45,
   "metadata": {},
   "outputs": [],
   "source": [
    "graph = {\n",
    "    'A': ['B', 'D'],\n",
    "    'B': ['A', 'C'],\n",
    "    'C': ['B'],\n",
    "    'D': ['A', 'E', 'F'],\n",
    "    'E': ['D', 'F', 'G'],\n",
    "    'F': ['D', 'E', 'H'],\n",
    "    'G': ['E', 'H'],\n",
    "    'H': ['G', 'F']\n",
    "}"
   ]
  },
  {
   "cell_type": "code",
   "execution_count": 46,
   "metadata": {},
   "outputs": [
    {
     "name": "stdout",
     "output_type": "stream",
     "text": [
      "A B D C E F G H "
     ]
    }
   ],
   "source": [
    "from collections import deque\n",
    "v = set()\n",
    "q = deque()\n",
    "p = {}\n",
    "d = {}\n",
    "\n",
    "for j in graph.keys():\n",
    "    d[j] = 0; p[j] = None;\n",
    "\n",
    "def bfs(node):\n",
    "    v.add(node)\n",
    "    q.appendleft(node)\n",
    "    while q:\n",
    "        m = q.pop()\n",
    "        print(m, end=\" \")\n",
    "        for i in graph[m]:\n",
    "            if i not in v:\n",
    "                v.add(i)\n",
    "                q.appendleft(i)  \n",
    "                p[i] = m\n",
    "                d[i] = d[m] + 1\n",
    "bfs('A')"
   ]
  },
  {
   "cell_type": "code",
   "execution_count": 44,
   "metadata": {},
   "outputs": [
    {
     "data": {
      "text/plain": [
       "{'A': 0, 'B': 1, 'C': 2, 'D': 1, 'E': 2, 'F': 2, 'G': 3, 'H': 3}"
      ]
     },
     "execution_count": 44,
     "metadata": {},
     "output_type": "execute_result"
    }
   ],
   "source": [
    "d"
   ]
  },
  {
   "cell_type": "code",
   "execution_count": 47,
   "metadata": {},
   "outputs": [
    {
     "data": {
      "text/plain": [
       "1"
      ]
     },
     "execution_count": 47,
     "metadata": {},
     "output_type": "execute_result"
    }
   ],
   "source": [
    "d['D']"
   ]
  },
  {
   "cell_type": "code",
   "execution_count": 48,
   "metadata": {},
   "outputs": [
    {
     "data": {
      "text/plain": [
       "3"
      ]
     },
     "execution_count": 48,
     "metadata": {},
     "output_type": "execute_result"
    }
   ],
   "source": [
    "d['G']"
   ]
  },
  {
   "cell_type": "code",
   "execution_count": null,
   "metadata": {},
   "outputs": [],
   "source": []
  }
 ],
 "metadata": {
  "kernelspec": {
   "display_name": "Python 3",
   "language": "python",
   "name": "python3"
  },
  "language_info": {
   "codemirror_mode": {
    "name": "ipython",
    "version": 3
   },
   "file_extension": ".py",
   "mimetype": "text/x-python",
   "name": "python",
   "nbconvert_exporter": "python",
   "pygments_lexer": "ipython3",
   "version": "3.8.3"
  }
 },
 "nbformat": 4,
 "nbformat_minor": 4
}
